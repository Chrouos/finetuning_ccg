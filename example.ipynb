{
 "cells": [
  {
   "cell_type": "code",
   "execution_count": null,
   "metadata": {},
   "outputs": [],
   "source": [
    "import numpy as np\n",
    "\n",
    "def log_cosh_loss(y_true, y_pred):\n",
    "    y_true, y_pred = np.array(y_true, dtype=np.float64), np.array(y_pred, dtype=np.float64)\n",
    "    \n",
    "    # 動態縮放因子，僅根據 y_true 計算，防止溢位\n",
    "    data_range = np.max(np.abs(y_true))\n",
    "    if data_range > 1000:\n",
    "        scaling_factor = 1e-5  # 進一步縮小縮放因子\n",
    "    elif data_range > 10:\n",
    "        scaling_factor = 1e-3\n",
    "    else:\n",
    "        scaling_factor = 1.0\n",
    "    \n",
    "    def _log_cosh(x):\n",
    "        # 使用數值穩定的公式來避免溢位\n",
    "        return np.where(np.abs(x) > 20, np.abs(x) - np.log(2), np.log(np.cosh(x)))\n",
    "    \n",
    "    # 使用縮放後的差異值來計算\n",
    "    loss = _log_cosh(scaling_factor * (y_pred - y_true))\n",
    "    \n",
    "    # 將損失除以縮放因子以保持量級\n",
    "    return np.mean(loss) / scaling_factor\n",
    "\n",
    "A = []"
   ]
  }
 ],
 "metadata": {
  "language_info": {
   "name": "python"
  }
 },
 "nbformat": 4,
 "nbformat_minor": 2
}
