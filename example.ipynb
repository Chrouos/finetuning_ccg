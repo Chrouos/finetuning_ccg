{
 "cells": [
  {
   "cell_type": "code",
   "execution_count": 30,
   "metadata": {},
   "outputs": [
    {
     "name": "stdout",
     "output_type": "stream",
     "text": [
      "16.100159367893955\n",
      "8.900978974205723\n"
     ]
    }
   ],
   "source": [
    "import numpy as np\n",
    "\n",
    "def log_cosh_loss(y_true, y_pred):\n",
    "    y_true, y_pred = np.array(y_true, dtype=np.float64), np.array(y_pred, dtype=np.float64)\n",
    "    \n",
    "    # 動態縮放因子，僅根據 y_true 計算，防止溢位\n",
    "    data_range = np.max(np.abs(y_true))\n",
    "    if data_range > 1000000:\n",
    "        scaling_factor = 1e-7  # 調整縮放因子\n",
    "    elif data_range > 10000:\n",
    "        scaling_factor = 1e-5  # 調整縮放因子\n",
    "    elif data_range > 100:\n",
    "        scaling_factor = 1e-3  # 調整縮放因子\n",
    "    else:\n",
    "        scaling_factor = 1.0\n",
    "    \n",
    "    def _log_cosh(x):\n",
    "        # 使用數值穩定的公式來避免溢位\n",
    "        return np.where(np.abs(x) > 20, np.abs(x) - np.log(2), np.log(np.cosh(x)))\n",
    "    \n",
    "    # 使用縮放後的差異值來計算\n",
    "    loss = _log_cosh(scaling_factor * (y_pred - y_true))\n",
    "    \n",
    "    # 將損失除以縮放因子以保持量級\n",
    "    return np.mean(loss) / scaling_factor\n",
    "\n",
    "A = [1, 2, 3, 4, 5, 6, 1, 2, 3, 4, 5, 6, 1, 2, 3, 4, 5, 6, 1, 2, 3, 4, 5, 6, 1, 2, 3, 4, 5, 6, 1, 2, 3, 4, 5, 6, 1, 2, 3, 4, 5, 6, 7]\n",
    "B = [1, 2, 3, 4, 5, 6, 1, 2, 3, 4, 5, 6, 1, 2, 3, 4, 5, 6, 1, 2, 3, 4, 5, 6, 1, 2, 3, 4, 5, 6, 1, 2, 3, 4, 5, 6, 1, 2, 3, 4, 5, 6, 700]\n",
    "print(log_cosh_loss(A, B))\n",
    "\n",
    "A = [1, 2, 3, 4, 5, 6, 7]\n",
    "B = [1, 2, 3, 4, 5, 6, 70]\n",
    "print(log_cosh_loss(A, B))\n"
   ]
  },
  {
   "cell_type": "code",
   "execution_count": 31,
   "metadata": {},
   "outputs": [
    {
     "name": "stdout",
     "output_type": "stream",
     "text": [
      "0.9767441860465116\n",
      "0.8571428571428571\n"
     ]
    }
   ],
   "source": [
    "def success_rate(A, B):\n",
    "    # 檢查兩個列表的長度是否相等，若不相等則返回 0\n",
    "    if len(A) != len(B):\n",
    "        return 0\n",
    "\n",
    "    # 計算相同元素的個數\n",
    "    correct_count = sum(1 for a, b in zip(A, B) if a == b)\n",
    "    # 計算完全正確的比例\n",
    "    rate = correct_count / len(A)\n",
    "    \n",
    "    return rate\n",
    "\n",
    "# 測試範例\n",
    "A = [1, 2, 3, 4, 5, 6, 1, 2, 3, 4, 5, 6, 1, 2, 3, 4, 5, 6, 1, 2, 3, 4, 5, 6, 1, 2, 3, 4, 5, 6, 1, 2, 3, 4, 5, 6, 1, 2, 3, 4, 5, 6, 7]\n",
    "B = [1, 2, 3, 4, 5, 6, 1, 2, 3, 4, 5, 6, 1, 2, 3, 4, 5, 6, 1, 2, 3, 4, 5, 6, 1, 2, 3, 4, 5, 6, 1, 2, 3, 4, 5, 6, 1, 2, 3, 4, 5, 6, 700]\n",
    "print(success_rate(A, B))  # 輸出：0.9761904761904762\n",
    "\n",
    "A = [1, 2, 3, 4, 5, 6, 7]\n",
    "B = [1, 2, 3, 4, 5, 6, 70]\n",
    "print(success_rate(A, B))  # 輸出：0.8571428571428571\n"
   ]
  },
  {
   "cell_type": "code",
   "execution_count": 32,
   "metadata": {},
   "outputs": [
    {
     "name": "stderr",
     "output_type": "stream",
     "text": [
      "/var/folders/kc/jbnf20ls6hl2qsfkbcc8pb600000gn/T/ipykernel_37381/2634073042.py:20: FutureWarning: DataFrame.applymap has been deprecated. Use DataFrame.map instead.\n",
      "  string_averages = df[string_fields].applymap(lambda x: len(str(x)) if pd.notnull(x) else 0).mean()\n"
     ]
    },
    {
     "data": {
      "text/plain": [
       "(事故日期        0.986672\n",
       " 事發經過       17.992332\n",
       " 事故車出廠日期     0.452437\n",
       " 傷勢          1.014972\n",
       " 職業          0.063173\n",
       " 折舊方法        0.284097\n",
       " 被告肇責        0.057331\n",
       " dtype: float64,\n",
       "             塗裝            工資           烤漆       鈑金      耐用年數          修車費用  \\\n",
       " min    4860.00    122.000000   100.000000    800.0  3.000000    233.000000   \n",
       " max   11000.00  59262.000000  8682.000000  26000.0  5.000000  76532.000000   \n",
       " mean   8333.75   5320.107143  4320.666667  10665.5  4.623306  12110.166667   \n",
       " \n",
       "              醫療費用         賠償金額總額  保險給付金額      居家看護天數    居家看護費用     每日居家看護金額  \n",
       " min    100.000000     683.000000  2515.0    6.000000   26000.0   714.000000  \n",
       " max   5063.000000  106931.000000  2515.0  150.000000  120000.0  2200.000000  \n",
       " mean  1107.611111   26176.857143  2515.0   47.964286   71000.0  1316.333333  )"
      ]
     },
     "execution_count": 32,
     "metadata": {},
     "output_type": "execute_result"
    }
   ],
   "source": [
    "# Manually extract and process the nested 'output' dictionary from each record\n",
    "import json\n",
    "import pandas as pd\n",
    "\n",
    "# Load the JSONL file again\n",
    "file_path = './data/finetuning_training_data.jsonl'\n",
    "\n",
    "# Read the JSONL file into a list of dictionaries\n",
    "data = [json.loads(line) for line in open(file_path, 'r', encoding='utf-8')]\n",
    "\n",
    "# Extract the 'output' part of each record and create a new DataFrame\n",
    "output_data = [record['output'] for record in data]\n",
    "df = pd.DataFrame(output_data)\n",
    "\n",
    "# Define the string and integer fields\n",
    "string_fields = [\"事故日期\", \"事發經過\", \"事故車出廠日期\", \"傷勢\", \"職業\", \"折舊方法\", \"被告肇責\"]\n",
    "int_fields = [\"塗裝\", \"工資\", \"烤漆\", \"鈑金\", \"耐用年數\", \"修車費用\", \"醫療費用\", \"賠償金額總額\", \"保險給付金額\", \"居家看護天數\", \"居家看護費用\", \"每日居家看護金額\"]\n",
    "\n",
    "# Calculate average string length for string fields\n",
    "string_averages = df[string_fields].applymap(lambda x: len(str(x)) if pd.notnull(x) else 0).mean()\n",
    "\n",
    "# Calculate distribution (min, max, mean) for int fields\n",
    "int_distributions = df[int_fields].apply(pd.to_numeric, errors='coerce').describe().loc[['min', 'max', 'mean']]\n",
    "\n",
    "string_averages, int_distributions\n"
   ]
  },
  {
   "cell_type": "code",
   "execution_count": 4,
   "metadata": {},
   "outputs": [
    {
     "name": "stdout",
     "output_type": "stream",
     "text": [
      "ANS= 0.0\n"
     ]
    }
   ],
   "source": [
    "import jieba\n",
    "from sklearn.feature_extraction.text import CountVectorizer\n",
    "from sklearn.metrics.pairwise import cosine_similarity\n",
    "\n",
    "def chinese_tokenizer(text):\n",
    "    return jieba.lcut(text)\n",
    "\n",
    "def calculate_average_cosine_similarity(text_list_1, text_list_2):\n",
    "    vectorizer = CountVectorizer(stop_words='english')\n",
    "    total_similarity = 0\n",
    "    valid_pairs = 0\n",
    "\n",
    "    for text1, text2 in zip(text_list_1, text_list_2):\n",
    "        text1 = str(text1)\n",
    "        text2 = str(text2)\n",
    "        \n",
    "        if text1.strip() == '' and  text2.strip() == '':\n",
    "            total_similarity += 1\n",
    "            valid_pairs += 1\n",
    "            \n",
    "        elif text1.strip() == '' and  text2.strip() != '':\n",
    "            total_similarity += 0\n",
    "            valid_pairs += 1\n",
    "        \n",
    "        elif text1.strip() != '' and  text2.strip() == '':\n",
    "            total_similarity += 0\n",
    "            valid_pairs += 1\n",
    "    \n",
    "        else:  # 檢查非空字串\n",
    "            corpus = [text1, text2]\n",
    "            vectors = vectorizer.fit_transform(corpus)\n",
    "            if vectors.shape[1] > 0:  # 檢查詞彙表是否為空\n",
    "                similarity = cosine_similarity(vectors)\n",
    "                total_similarity += similarity[0][1]\n",
    "                valid_pairs += 1\n",
    "                \n",
    "    if valid_pairs == 0:\n",
    "        return 0  # 如果沒有有效的字串對，返回0或其他預設值\n",
    "\n",
    "    average_similarity = total_similarity / valid_pairs\n",
    "    return average_similarity\n",
    "\n",
    "A=['', '', '', '', '', '便利商店員工', '', '', '', '', '', '', '', '', '', '', '', '', '', '', '', '', '', '', '', '駕駛', '', '', '', '', '', '', '', '', '', '', '', '', '郵局投遞士', '', '', '', '', '', '', '', '', '', '', '', '', '', '', '', '', '', '', '', '工程師', '', '服務業', '', '', '', '', '', '', '家翊公司', '', '', '', '', '', '', '汽車維修', '', '', '', '', '', '理事長秘書', '', '', '', '', '', '', '', '', '', '', '', '', '', '', '', '服務業', '', '', '', '', '', '', '家管', '', '', '機械設備進口貿易', '', '英文家教', '', '', '', '', '專櫃銷售員', '家庭主婦', '電器行', '', '', '', '家庭主婦', '', '', '', '', '', '', '', '', '', '', '', '', '', '', '', '', '', '', '', '', '', '', '', '', '', '', '', '', '販賣水果', '', '', '', '', '', '', '', '中鋼員工', '', '', '', '', '', '', '', '', '計程車', '', '', '', '', '', '', '', '', '', '', '南臺科技大學擔任辦事員', '', '公司負責人', '', '', '打0工', '', '', '', '', '', '', '', '', '', '', '', '']\n",
    "B=['', '', '', '', '', '', '', '', '', '', '', '', '', '', '', '', '', '', '', '', '', '', '', '', '', '', '損失', '', '', '', '', '', '', '', '', '天，且原告確已因本件侵權而實際支出，尚有誤會，不應准許。(2)精神慰撫金：經審酌「放屁」、「怪不得你這種人只能做司機」、「他媽的」、「幹你老師咧」等語，均屬負面用語，足以減低他人之社會評價，並對司機這種對社會有貢獻之職業，以自身之優越社經地位主觀加以貶抑，並加諸於原告，情節顯屬重大，經依最高法院', '', '', '', '', '', '', '', '', '能力，而可扶養原告蘇連得。而原告蘇連得名下雖有坐落屏東縣○○市○○段', '', '', '', '', '', '', '', '', '', '，開始享受與原告洪明通及洪仁吉、洪仁風、洪諺邦全家天倫之樂時，因本件車禍竟造成洪李美當場死亡結果，造成原告洪明通、洪仁吉、洪仁風及洪諺邦精神極大痛苦，身心遭受極大之創傷及痛苦已超乎1般常人可忍受之程度。被告於肇事後，毫無悔意，且事發至今，被告亦未曾表示誠意，給予原告等人任何喪葬費或任何表示歉意之意思，並於治喪期間糾眾至喪家，犯後態度極度惡劣已造成原告家屬2次傷害。爰依民法第', '', '', '', '損失', '', '', '', '', '', '', '', '', '', '', '', '', '', '', '', '', '', '', '', '', '', '', '', '', '', '、危害之嚴重性、被害法益之輕重、防範避免危害之代價、與公共利益之關係、資料來源之可信度、查證之難易等，而有所不同；後者乃行為人表示自己之見解或立場，屬主觀價值判斷之範疇，無真實與否可言，行為人對於可受公評之事，如係善意發表適當評論，固不具違法性，然行為人倘對於未能確定之事實，使用偏激不堪之言詞而為意見表達，足以貶損他人在社會上之評價，仍屬侵害他人之名譽權，應負侵權行為之損害賠償責任，又依社會通念為客觀之綜合評價，倘該行為傷及被害人主觀之情感並對被害人社會之客觀評價產生不良影響，即屬名譽之侵害又民法上名譽權之侵害非即與刑法之誹謗罪相同，名譽有無受損害，應以社會上對個人評價是否貶損作為判斷之依據，苟其行為足以使他人在社會上之評價受到貶損，不論其為故意或過失，均可構成侵權行為，其行為不以廣佈於社會為必要，僅使第3人知悉其事，亦足當之民法上，若已將足以毀損他人名譽之事表白於特定第3人，縱未至公然侮辱之程度，且無散布於眾之意圖，亦應認係名譽之侵害，蓋既對於第3人表白足以毀損他人名譽之事，則其人之社會評價，不免因而受有貶損。(最高法院', '', '', '', '', '', '', '', '', '', '', '', '', '', '', '', '', '', '', '，名下財產有數筆不動產等語，而依卷附本院依職權查詢之原告之稅務電子閘門財產所得調件明細表', '', '', '', '', '', '', '', '', '', '', '', '之損失', '', '', '', '', '', '', '', '', '', '', '', '', '', '', '', '', '', '', '', '', '', '', '', '', '', '', '', '之被告乙○○發展超越社交禮儀、逾越分際之外遇行為。被告乙○○更時常手寫內容曖昧之卡片、用紙摺成愛心圖案送給被告甲○○。原告於', '', '', '', '', '', '', '', '', '', '', '', '損失', '', '', '', '', '', '', '', '', '', '', '', '', '', '', '', '', '', '', '', '', '', '', '', '', '', '', '', '', '', '', '', '', '', '', '', '', '', '']\n",
    "print(\"ANS=\", calculate_average_cosine_similarity(A, B))\n"
   ]
  },
  {
   "cell_type": "code",
   "execution_count": 46,
   "metadata": {},
   "outputs": [
    {
     "name": "stdout",
     "output_type": "stream",
     "text": [
      "token of basicPrompt: 200\n",
      "token of advancedPrompt: 584\n",
      "token of oneShotPrompt: 2772\n"
     ]
    }
   ],
   "source": [
    "from processed_to_format import basicPrompt, advancedPrompt, oneShotPrompt\n",
    "print(\"token of basicPrompt:\", len(basicPrompt()))\n",
    "print(\"token of advancedPrompt:\", len(advancedPrompt()))\n",
    "print(\"token of oneShotPrompt:\", len(oneShotPrompt()))"
   ]
  }
 ],
 "metadata": {
  "kernelspec": {
   "display_name": "Python 3",
   "language": "python",
   "name": "python3"
  },
  "language_info": {
   "codemirror_mode": {
    "name": "ipython",
    "version": 3
   },
   "file_extension": ".py",
   "mimetype": "text/x-python",
   "name": "python",
   "nbconvert_exporter": "python",
   "pygments_lexer": "ipython3",
   "version": "3.11.5"
  }
 },
 "nbformat": 4,
 "nbformat_minor": 2
}
