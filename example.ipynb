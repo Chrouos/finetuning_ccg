{
 "cells": [
  {
   "cell_type": "code",
   "execution_count": 7,
   "metadata": {},
   "outputs": [
    {
     "name": "stdout",
     "output_type": "stream",
     "text": [
      "16.100159367893955\n",
      "8.900978974205723\n"
     ]
    }
   ],
   "source": [
    "import numpy as np\n",
    "\n",
    "def log_cosh_loss(y_true, y_pred):\n",
    "    y_true, y_pred = np.array(y_true, dtype=np.float64), np.array(y_pred, dtype=np.float64)\n",
    "    \n",
    "    # 動態縮放因子，僅根據 y_true 計算，防止溢位\n",
    "    data_range = np.max(np.abs(y_true))\n",
    "    if data_range > 1000000:\n",
    "        scaling_factor = 1e-7  # 調整縮放因子\n",
    "    elif data_range > 10000:\n",
    "        scaling_factor = 1e-5  # 調整縮放因子\n",
    "    elif data_range > 100:\n",
    "        scaling_factor = 1e-3  # 調整縮放因子\n",
    "    else:\n",
    "        scaling_factor = 1.0\n",
    "    \n",
    "    def _log_cosh(x):\n",
    "        # 使用數值穩定的公式來避免溢位\n",
    "        return np.where(np.abs(x) > 20, np.abs(x) - np.log(2), np.log(np.cosh(x)))\n",
    "    \n",
    "    # 使用縮放後的差異值來計算\n",
    "    loss = _log_cosh(scaling_factor * (y_pred - y_true))\n",
    "    \n",
    "    # 將損失除以縮放因子以保持量級\n",
    "    return np.mean(loss) / scaling_factor\n",
    "\n",
    "A = [1, 2, 3, 4, 5, 6, 1, 2, 3, 4, 5, 6, 1, 2, 3, 4, 5, 6, 1, 2, 3, 4, 5, 6, 1, 2, 3, 4, 5, 6, 1, 2, 3, 4, 5, 6, 1, 2, 3, 4, 5, 6, 7]\n",
    "B = [1, 2, 3, 4, 5, 6, 1, 2, 3, 4, 5, 6, 1, 2, 3, 4, 5, 6, 1, 2, 3, 4, 5, 6, 1, 2, 3, 4, 5, 6, 1, 2, 3, 4, 5, 6, 1, 2, 3, 4, 5, 6, 700]\n",
    "print(log_cosh_loss(A, B))\n",
    "\n",
    "A = [1, 2, 3, 4, 5, 6, 7]\n",
    "B = [1, 2, 3, 4, 5, 6, 70]\n",
    "print(log_cosh_loss(A, B))\n"
   ]
  },
  {
   "cell_type": "code",
   "execution_count": 1,
   "metadata": {},
   "outputs": [
    {
     "name": "stderr",
     "output_type": "stream",
     "text": [
      "/var/folders/kc/jbnf20ls6hl2qsfkbcc8pb600000gn/T/ipykernel_32940/2634073042.py:20: FutureWarning: DataFrame.applymap has been deprecated. Use DataFrame.map instead.\n",
      "  string_averages = df[string_fields].applymap(lambda x: len(str(x)) if pd.notnull(x) else 0).mean()\n"
     ]
    },
    {
     "data": {
      "text/plain": [
       "(事故日期        0.986672\n",
       " 事發經過       17.992332\n",
       " 事故車出廠日期     0.452437\n",
       " 傷勢          1.014972\n",
       " 職業          0.063173\n",
       " 折舊方法        0.284097\n",
       " 被告肇責        0.057331\n",
       " dtype: float64,\n",
       "             塗裝            工資           烤漆       鈑金      耐用年數          修車費用  \\\n",
       " min    4860.00    122.000000   100.000000    800.0  3.000000    233.000000   \n",
       " max   11000.00  59262.000000  8682.000000  26000.0  5.000000  76532.000000   \n",
       " mean   8333.75   5320.107143  4320.666667  10665.5  4.623306  12110.166667   \n",
       " \n",
       "              醫療費用         賠償金額總額  保險給付金額      居家看護天數    居家看護費用     每日居家看護金額  \n",
       " min    100.000000     683.000000  2515.0    6.000000   26000.0   714.000000  \n",
       " max   5063.000000  106931.000000  2515.0  150.000000  120000.0  2200.000000  \n",
       " mean  1107.611111   26176.857143  2515.0   47.964286   71000.0  1316.333333  )"
      ]
     },
     "execution_count": 1,
     "metadata": {},
     "output_type": "execute_result"
    }
   ],
   "source": [
    "# Manually extract and process the nested 'output' dictionary from each record\n",
    "import json\n",
    "import pandas as pd\n",
    "\n",
    "# Load the JSONL file again\n",
    "file_path = './data/finetuning_training_data.jsonl'\n",
    "\n",
    "# Read the JSONL file into a list of dictionaries\n",
    "data = [json.loads(line) for line in open(file_path, 'r', encoding='utf-8')]\n",
    "\n",
    "# Extract the 'output' part of each record and create a new DataFrame\n",
    "output_data = [record['output'] for record in data]\n",
    "df = pd.DataFrame(output_data)\n",
    "\n",
    "# Define the string and integer fields\n",
    "string_fields = [\"事故日期\", \"事發經過\", \"事故車出廠日期\", \"傷勢\", \"職業\", \"折舊方法\", \"被告肇責\"]\n",
    "int_fields = [\"塗裝\", \"工資\", \"烤漆\", \"鈑金\", \"耐用年數\", \"修車費用\", \"醫療費用\", \"賠償金額總額\", \"保險給付金額\", \"居家看護天數\", \"居家看護費用\", \"每日居家看護金額\"]\n",
    "\n",
    "# Calculate average string length for string fields\n",
    "string_averages = df[string_fields].applymap(lambda x: len(str(x)) if pd.notnull(x) else 0).mean()\n",
    "\n",
    "# Calculate distribution (min, max, mean) for int fields\n",
    "int_distributions = df[int_fields].apply(pd.to_numeric, errors='coerce').describe().loc[['min', 'max', 'mean']]\n",
    "\n",
    "string_averages, int_distributions\n"
   ]
  }
 ],
 "metadata": {
  "kernelspec": {
   "display_name": "Python 3",
   "language": "python",
   "name": "python3"
  },
  "language_info": {
   "codemirror_mode": {
    "name": "ipython",
    "version": 3
   },
   "file_extension": ".py",
   "mimetype": "text/x-python",
   "name": "python",
   "nbconvert_exporter": "python",
   "pygments_lexer": "ipython3",
   "version": "3.11.5"
  }
 },
 "nbformat": 4,
 "nbformat_minor": 2
}
