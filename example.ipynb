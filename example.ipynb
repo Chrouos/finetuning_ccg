{
 "cells": [
  {
   "cell_type": "code",
   "execution_count": 7,
   "metadata": {},
   "outputs": [
    {
     "name": "stdout",
     "output_type": "stream",
     "text": [
      "16.100159367893955\n",
      "8.900978974205723\n"
     ]
    }
   ],
   "source": [
    "import numpy as np\n",
    "\n",
    "def log_cosh_loss(y_true, y_pred):\n",
    "    y_true, y_pred = np.array(y_true, dtype=np.float64), np.array(y_pred, dtype=np.float64)\n",
    "    \n",
    "    # 動態縮放因子，僅根據 y_true 計算，防止溢位\n",
    "    data_range = np.max(np.abs(y_true))\n",
    "    if data_range > 10000:\n",
    "        scaling_factor = 1e-5  # 調整縮放因子\n",
    "    elif data_range > 100:\n",
    "        scaling_factor = 1e-3  # 調整縮放因子\n",
    "    else:\n",
    "        scaling_factor = 1.0\n",
    "    \n",
    "    def _log_cosh(x):\n",
    "        # 使用數值穩定的公式來避免溢位\n",
    "        return np.where(np.abs(x) > 20, np.abs(x) - np.log(2), np.log(np.cosh(x)))\n",
    "    \n",
    "    # 使用縮放後的差異值來計算\n",
    "    loss = _log_cosh(scaling_factor * (y_pred - y_true))\n",
    "    \n",
    "    # 將損失除以縮放因子以保持量級\n",
    "    return np.mean(loss) / scaling_factor\n",
    "\n",
    "A = [1, 2, 3, 4, 5, 6, 1, 2, 3, 4, 5, 6, 1, 2, 3, 4, 5, 6, 1, 2, 3, 4, 5, 6, 1, 2, 3, 4, 5, 6, 1, 2, 3, 4, 5, 6, 1, 2, 3, 4, 5, 6, 7]\n",
    "B = [1, 2, 3, 4, 5, 6, 1, 2, 3, 4, 5, 6, 1, 2, 3, 4, 5, 6, 1, 2, 3, 4, 5, 6, 1, 2, 3, 4, 5, 6, 1, 2, 3, 4, 5, 6, 1, 2, 3, 4, 5, 6, 700]\n",
    "print(log_cosh_loss(A, B))\n",
    "\n",
    "A = [1, 2, 3, 4, 5, 6, 7]\n",
    "B = [1, 2, 3, 4, 5, 6, 70]\n",
    "print(log_cosh_loss(A, B))\n"
   ]
  }
 ],
 "metadata": {
  "kernelspec": {
   "display_name": "Python 3",
   "language": "python",
   "name": "python3"
  },
  "language_info": {
   "codemirror_mode": {
    "name": "ipython",
    "version": 3
   },
   "file_extension": ".py",
   "mimetype": "text/x-python",
   "name": "python",
   "nbconvert_exporter": "python",
   "pygments_lexer": "ipython3",
   "version": "3.11.5"
  }
 },
 "nbformat": 4,
 "nbformat_minor": 2
}
